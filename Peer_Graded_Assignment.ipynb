{
 "cells": [
  {
   "cell_type": "markdown",
   "id": "7bc37337-57e9-47a5-a94a-281880f0fa83",
   "metadata": {},
   "source": [
    "# My Jupyter Notebook on IBM Watson Studio"
   ]
  },
  {
   "cell_type": "markdown",
   "id": "2300108f-d76f-44bb-8806-3a9ccc16c9db",
   "metadata": {},
   "source": [
    "**Fernando Araújo**"
   ]
  },
  {
   "cell_type": "markdown",
   "id": "f8f1efcd-5c6c-40e1-af5c-6de80231f29d",
   "metadata": {},
   "source": [
    "*I'm interested in data science because i'm curious, and the possibilities are endless*"
   ]
  },
  {
   "cell_type": "markdown",
   "id": "b89da7c1-8151-4506-8766-55f1a8a52067",
   "metadata": {},
   "source": [
    "### The code below calculates the plus of 2 numbers inputted by an user"
   ]
  },
  {
   "cell_type": "code",
   "execution_count": 6,
   "id": "31317018-39cc-460a-9a6e-00abeb11ea8d",
   "metadata": {},
   "outputs": [
    {
     "name": "stdin",
     "output_type": "stream",
     "text": [
      "Insert First Number: 1\n",
      "Insert Second Number: 2\n"
     ]
    },
    {
     "name": "stdout",
     "output_type": "stream",
     "text": [
      "3\n"
     ]
    }
   ],
   "source": [
    "a = int(input('Insert First Number:'))\n",
    "b = int(input('Insert Second Number:'))\n",
    "result = a + b\n",
    "print(result)"
   ]
  },
  {
   "cell_type": "markdown",
   "id": "449b3b4d-f9c6-4996-bb4f-d42c36cbcaff",
   "metadata": {},
   "source": [
    "<a href=\"https://dataplatform.cloud.ibm.com/gallery\">IBM Cloud Gallery</a>\n",
    "\n",
    "|date|time|distance\n",
    "|-----|-----|-----|\n",
    "|27-07-2022|30|10.5\n",
    "|27-07-2022|30|10.5\n",
    "|27-07-2022|30|10.5\n",
    "|27-07-2022|30|10.5\n",
    "\n",
    "![alt text here](https://www.earthdatascience.org/images/earth-lab-logo.png)\n",
    "\n",
    "`Data Science is what the data scientists do.`"
   ]
  },
  {
   "cell_type": "code",
   "execution_count": null,
   "id": "e614e8e8-d86e-497e-8591-26b619c7b860",
   "metadata": {},
   "outputs": [],
   "source": []
  }
 ],
 "metadata": {
  "kernelspec": {
   "display_name": "Python",
   "language": "python",
   "name": "conda-env-python-py"
  },
  "language_info": {
   "codemirror_mode": {
    "name": "ipython",
    "version": 3
   },
   "file_extension": ".py",
   "mimetype": "text/x-python",
   "name": "python",
   "nbconvert_exporter": "python",
   "pygments_lexer": "ipython3",
   "version": "3.7.12"
  }
 },
 "nbformat": 4,
 "nbformat_minor": 5
}
